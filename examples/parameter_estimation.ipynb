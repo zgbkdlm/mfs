{
 "cells": [
  {
   "cell_type": "markdown",
   "source": [
    "# Parameter estimation\n",
    "\n",
    "In this notebook, we see how to use the moment filter to estimate model parameters. The model that we use here is\n",
    "\n",
    "$$\n",
    "\\begin{equation}\n",
    "    \\begin{split}\n",
    "        \\mathrm{d} X(t) &= X(t) \\, \\bigl( 1 - \\theta_1 \\, X(t)^2 \\bigr) \\mathrm{d} t + \\mathrm{d} W(t), \\\\\n",
    "        X(0) &\\sim \\frac{1}{2}\\bigl( \\mathcal{N}(-0.5, 0.05) + \\mathcal{N}(0.5, 0.05)\\bigr), \\\\\n",
    "        Y_k \\mid X_k &\\sim \\mathrm{Poisson}\\Bigl( \\log\\bigl(1 + \\exp(\\theta_2 \\, X_k)\\bigr) \\Bigr),\n",
    "    \\end{split}\n",
    "\\end{equation}\n",
    "$$\n",
    "\n",
    "and we aim to estiamte $\\theta_1$ and $\\theta_2$ from the measurements. Let us set the true values of them two be 3.\n",
    "\n",
    "## Note\n",
    "This notebook assumes that you have already taken a look at `./benes_bernoulli.ipynb` to get familiar with the moment filter.\n"
   ],
   "metadata": {
    "collapsed": false
   }
  },
  {
   "cell_type": "code",
   "execution_count": 1,
   "outputs": [
    {
     "name": "stderr",
     "output_type": "stream",
     "text": [
      "No GPU/TPU found, falling back to CPU. (Set TF_CPP_MIN_LOG_LEVEL=0 and rerun for more info.)\n"
     ]
    }
   ],
   "source": [
    "import jax\n",
    "import jax.numpy as jnp\n",
    "import jaxopt\n",
    "import tme.base_jax as tme\n",
    "from mfs.one_dim.filtering import moment_filter_cms\n",
    "from mfs.utils import GaussianSum1D, simulate_sde\n",
    "from jax.config import config\n",
    "from functools import partial\n",
    "\n",
    "# Using `float64` is often necessary.\n",
    "config.update(\"jax_enable_x64\", True)\n",
    "\n",
    "# Random seed\n",
    "key = jax.random.PRNGKey(123)"
   ],
   "metadata": {
    "collapsed": false
   }
  },
  {
   "cell_type": "markdown",
   "source": [
    "# Define the model\n",
    "\n",
    "Define the model and make a simulation to generate data."
   ],
   "metadata": {
    "collapsed": false
   }
  },
  {
   "cell_type": "code",
   "execution_count": 2,
   "outputs": [],
   "source": [
    "true_theta1, true_theta2 = 3., 3.\n",
    "\n",
    "\n",
    "def drift(x, p):\n",
    "    \"\"\"Drift function\n",
    "    \"\"\"\n",
    "    return x * (1 - p * x ** 2)\n",
    "\n",
    "\n",
    "def dispersion(_):\n",
    "    \"\"\"Dispersion function\n",
    "    \"\"\"\n",
    "    return 1.\n",
    "\n",
    "\n",
    "def emission(x, p):\n",
    "    return jnp.log(1. + jnp.exp(p * x))\n",
    "\n",
    "\n",
    "def measurement_cond_pmf(y, x, p):\n",
    "    return jax.scipy.stats.poisson.pmf(y, emission(x, p))\n",
    "\n",
    "\n",
    "# The order which gives to 2 * N - 1 moments. The higher the more accurate.\n",
    "N = 5\n",
    "\n",
    "# Initial condition\n",
    "init_cond = GaussianSum1D.new(means=jnp.array([-0.5, 0.5]),\n",
    "                              variances=jnp.array([0.05, 0.05]),\n",
    "                              weights=jnp.array([0.5, 0.5]),\n",
    "                              N=N)\n",
    "\n",
    "# Random keys for simulation\n",
    "key_x0, key_xs, key_ys = jax.random.split(key, 3)\n",
    "\n",
    "# Times\n",
    "dt = 1e-2\n",
    "T = 1000\n",
    "ts = jnp.linspace(dt, dt * T, T)\n",
    "\n",
    "# Simulate an initial, a trajectory, and measurements\n",
    "x0 = init_cond.sampler(key_x0, 1)[0]\n",
    "xs = simulate_sde(\n",
    "    lambda _x, _dt: tme.mean_and_cov(jnp.atleast_1d(_x), _dt, lambda _x: drift(_x, true_theta1), dispersion, order=3),\n",
    "    x0, dt, T, key_xs, diagonal_cov=False, integration_steps=100)[:, 0]\n",
    "ys = jax.random.poisson(key_ys, emission(xs, true_theta2), (T,))"
   ],
   "metadata": {
    "collapsed": false
   }
  },
  {
   "cell_type": "markdown",
   "source": [
    "# Objective function\n",
    "\n",
    "Now this is the key. We need to create an objective function of the unknown parameters and outputs the negative log-likelihood.\n",
    "\n",
    "The last return of the moment filter function is `nell` which is the negative log-likelihood."
   ],
   "metadata": {
    "collapsed": false
   }
  },
  {
   "cell_type": "code",
   "execution_count": 3,
   "outputs": [],
   "source": [
    "# The objective function\n",
    "@jax.jit\n",
    "def obj_func(params, _ys):\n",
    "    # Use a bijection to ensure the positivity of the parameters\n",
    "    params = jnp.log(jnp.exp(params) + 1.)\n",
    "\n",
    "    def _drift(x):\n",
    "        return drift(x, params[0])\n",
    "\n",
    "    def _measurement_cond_pmf(y, x):\n",
    "        return measurement_cond_pmf(y, x, params[1])\n",
    "\n",
    "    @partial(jax.vmap, in_axes=[0, None, None])\n",
    "    @partial(jax.vmap, in_axes=[None, 0, None])\n",
    "    def state_cond_central_moments(x, n, mean):\n",
    "        def phi(u):\n",
    "            return (u - mean) ** n\n",
    "\n",
    "        return jnp.squeeze(tme.expectation(phi, jnp.atleast_1d(x), dt, _drift, dispersion, order=3))\n",
    "\n",
    "    @partial(jax.vmap, in_axes=[0])\n",
    "    def state_cond_mean(x):\n",
    "        return jnp.squeeze(tme.expectation(lambda u: u, jnp.atleast_1d(x), dt, _drift, dispersion, order=3))\n",
    "\n",
    "    _, _, nell = moment_filter_cms(state_cond_central_moments, state_cond_mean, _measurement_cond_pmf,\n",
    "                                   init_cond.cms, init_cond.mean, _ys)\n",
    "    return nell"
   ],
   "metadata": {
    "collapsed": false
   }
  },
  {
   "cell_type": "markdown",
   "source": [
    "Use L-BFGS-B to do the optimisation, starting from initials 0.1."
   ],
   "metadata": {
    "collapsed": false
   }
  },
  {
   "cell_type": "code",
   "execution_count": 4,
   "outputs": [],
   "source": [
    "# Run optimisation\n",
    "init_params = jnp.log(jnp.exp(jnp.array([0.1, 0.1])) - 1.)\n",
    "opt_solver = jaxopt.ScipyMinimize(method='L-BFGS-B', jit=True, fun=obj_func)\n",
    "opt_params, opt_state = opt_solver.run(init_params, ys)\n",
    "opt_params = jnp.log(jnp.exp(opt_params) + 1.)"
   ],
   "metadata": {
    "collapsed": false
   }
  },
  {
   "cell_type": "code",
   "execution_count": 5,
   "outputs": [
    {
     "name": "stdout",
     "output_type": "stream",
     "text": [
      "ScipyMinimizeInfo(fun_val=Array(1354.68233404, dtype=float64, weak_type=True), success=True, status=0, iter_num=16)\n",
      "Learnt parameters: [2.55806413 3.35835942]\n"
     ]
    }
   ],
   "source": [
    "print(opt_state)\n",
    "print(f'Learnt parameters: {opt_params}')"
   ],
   "metadata": {
    "collapsed": false
   }
  }
 ],
 "metadata": {
  "kernelspec": {
   "display_name": "Python 3",
   "language": "python",
   "name": "python3"
  },
  "language_info": {
   "codemirror_mode": {
    "name": "ipython",
    "version": 2
   },
   "file_extension": ".py",
   "mimetype": "text/x-python",
   "name": "python",
   "nbconvert_exporter": "python",
   "pygments_lexer": "ipython2",
   "version": "2.7.6"
  }
 },
 "nbformat": 4,
 "nbformat_minor": 0
}
